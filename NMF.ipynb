{
  "nbformat": 4,
  "nbformat_minor": 0,
  "metadata": {
    "colab": {
      "private_outputs": true,
      "provenance": [],
      "authorship_tag": "ABX9TyP7UDjGi8AP8NCPLWGSojyZ",
      "include_colab_link": true
    },
    "kernelspec": {
      "name": "python3",
      "display_name": "Python 3"
    },
    "language_info": {
      "name": "python"
    }
  },
  "cells": [
    {
      "cell_type": "markdown",
      "metadata": {
        "id": "view-in-github",
        "colab_type": "text"
      },
      "source": [
        "<a href=\"https://colab.research.google.com/github/gmroue01/NMF_TENSOR_Projet/blob/main/NMF.ipynb\" target=\"_parent\"><img src=\"https://colab.research.google.com/assets/colab-badge.svg\" alt=\"Open In Colab\"/></a>"
      ]
    },
    {
      "cell_type": "markdown",
      "source": [
        "# Multiplicative Update"
      ],
      "metadata": {
        "id": "tStan4PLeScL"
      }
    },
    {
      "cell_type": "code",
      "execution_count": null,
      "metadata": {
        "id": "axtOSYiVbvLz"
      },
      "outputs": [],
      "source": [
        "import random\n",
        "import numpy as np\n",
        "\n",
        "def generate_random_matrix(m,n,r,seed):\n",
        "  \"\"\"\n",
        "  The function  randomly generates the three matrix X,W,H;\n",
        "  X : The original Matrix => matrix size = (n,m)\n",
        "  W : The feature matrix => matrix size = (n,r)\n",
        "  H : The coefficient matrix => matrix size = (r,m)\n",
        "\n",
        "  Parameters:\n",
        "  n : numbers of row of the X and W matrix\n",
        "  m : numbers of columns of the X and H matrix\n",
        "  r : chosen rank (dimensionality of the reduced representation where r <= min(n,m))\n",
        "  seed : random seed\n",
        "  \"\"\"\n",
        "\n",
        "  if r >= np.min(m,n):\n",
        "    print(\"r need to be lower and equal to the minimum value between m and n for a dimensionality reduction\")\n",
        "    return False\n",
        "  np.random.seed(seed)\n",
        "  H = np.random.randint(0,100,(r,n))\n",
        "  W = np.random.randint(0,100,(m,r))\n",
        "  X = W@H # @ =  Multiplication Matricielle\n",
        "  return X,W,H\n",
        "\n"
      ]
    },
    {
      "cell_type": "code",
      "source": [
        "generate_random_matrix(4,8,45,42)"
      ],
      "metadata": {
        "id": "Ep4euE_Yl1Tq"
      },
      "execution_count": null,
      "outputs": []
    }
  ]
}