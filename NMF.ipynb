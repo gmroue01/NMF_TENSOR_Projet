{
  "nbformat": 4,
  "nbformat_minor": 0,
  "metadata": {
    "colab": {
      "private_outputs": true,
      "provenance": [],
      "authorship_tag": "ABX9TyO9LfiVjgPAsrnpedL52+RH",
      "include_colab_link": true
    },
    "kernelspec": {
      "name": "python3",
      "display_name": "Python 3"
    },
    "language_info": {
      "name": "python"
    }
  },
  "cells": [
    {
      "cell_type": "markdown",
      "metadata": {
        "id": "view-in-github",
        "colab_type": "text"
      },
      "source": [
        "<a href=\"https://colab.research.google.com/github/gmroue01/NMF_TENSOR_Projet/blob/main/NMF.ipynb\" target=\"_parent\"><img src=\"https://colab.research.google.com/assets/colab-badge.svg\" alt=\"Open In Colab\"/></a>"
      ]
    },
    {
      "cell_type": "markdown",
      "source": [
        "# Multiplicative Update"
      ],
      "metadata": {
        "id": "tStan4PLeScL"
      }
    },
    {
      "cell_type": "code",
      "execution_count": null,
      "metadata": {
        "id": "axtOSYiVbvLz"
      },
      "outputs": [],
      "source": [
        "import random\n",
        "import numpy as np\n",
        "\n",
        "def generate_random_matrix(m,n,r,seed=42):\n",
        "  \"\"\"\n",
        "  The function  randomly generates the three matrix X,W,H;\n",
        "  X : The original Matrix => matrix size = (m,n)\n",
        "  W : The feature matrix => matrix size = (m,r)\n",
        "  H : The coefficient matrix => matrix size = (r,n)\n",
        "\n",
        "  Parameters:\n",
        "  n : numbers of row of the X and W matrix\n",
        "  m : numbers of columns of the X and H matrix\n",
        "  r : chosen rank (dimensionality of the reduced representation where r <= min(n,m))\n",
        "  seed : random seed\n",
        "  \"\"\"\n",
        "\n",
        "  if r >= min(m,n): # To Do : transform into a try/catch\n",
        "    print(\"r need to be lower and equal to the minimum value between m and n for a dimensionality reduction\")\n",
        "    return False\n",
        "  np.random.seed(seed)\n",
        "  H = np.random.randint(0,100,(r,m))\n",
        "  W = np.random.randint(0,100,(n,r))\n",
        "  X = np.random.randint(0,100,(n,m)) # @ =  Multiplication Matricielle\n",
        "  return X,W,H\n",
        "\n",
        "\n",
        "\n"
      ]
    },
    {
      "cell_type": "code",
      "source": [
        "def display_errors(errors):\n",
        "  plt.plot(errors)\n",
        "  plt.title(\"Evolution of the errors\")\n",
        "  plt.show()\n"
      ],
      "metadata": {
        "id": "hURwLenFtElQ"
      },
      "execution_count": null,
      "outputs": []
    },
    {
      "cell_type": "code",
      "source": [
        "from scipy import linalg\n",
        "import matplotlib.pyplot as plt\n",
        "\n",
        "def MU(m,n,r,nbr_iter= 200,epsilon=1e-9,seed=42):\n",
        "  \"\"\"\n",
        "  The function is the implementation multipcative update algorithm.\n",
        "  Therefore, the MU improve the gradient descent and the minimisation of the objective function\n",
        "  by a choice of a factor which is from a diagonaly rescale of variables and set.\n",
        "\n",
        "  A value epsilon (eps_w and eps_h) is add to the denominator to avoid a division by zero.\n",
        "\n",
        "  Parameters :\n",
        "  m : numbers of columns of the X and H matrix.(Use by generate_random_matrix function)\n",
        "  n : numbers of row of the X and W matrix.(Use by generate_random_matrix function)\n",
        "  r : chosen rank.(Use by generate_random_matrix function)\n",
        "  nbr_iter: number of iteration of the multiplicative update.\n",
        "  espilon : the filling value of the matrix eps_w and eps_h.\n",
        "  seed : random seed\n",
        "  \"\"\"\n",
        "  X,W,H = generate_random_matrix(m,n,r, seed=42)\n",
        "  errors = []\n",
        "  eps_w = np.full((m,r),epsilon) # Must be the same dimension as W\n",
        "  eps_h = np.full((r,n),epsilon) # Must be the same dimention as H\n",
        "  for i in range(1,nbr_iter):\n",
        "\n",
        "    W = W*((X@H.T)/((W@(H@H.T))) + eps_w)\n",
        "\n",
        "    H = H*((W.T@X)/((W.T@W)@H) + eps_h)\n",
        "\n",
        "    error = linalg.norm(X-(W@H)) # Frobrenius norm by default\n",
        "    errors.append(error)\n",
        "\n",
        "\n",
        "  display_errors(errors)\n",
        "  return errors"
      ],
      "metadata": {
        "id": "cuN6dBEbnPib"
      },
      "execution_count": null,
      "outputs": []
    },
    {
      "cell_type": "code",
      "source": [
        "errors = MU(4,4,2)"
      ],
      "metadata": {
        "id": "Ep4euE_Yl1Tq"
      },
      "execution_count": null,
      "outputs": []
    },
    {
      "cell_type": "markdown",
      "source": [
        "## How do you initialise W and H?\n",
        "\n",
        "- Random\n",
        "\n",
        "- SVD\n",
        "\n",
        "- K-clustering\n",
        "\n",
        "- Near-separeable NMF"
      ],
      "metadata": {
        "id": "iKr8UbhMszWo"
      }
    }
  ]
}